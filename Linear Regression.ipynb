{
 "cells": [
  {
   "cell_type": "code",
   "execution_count": 1,
   "id": "b95c7378-4426-4e9f-a281-12b95c300f24",
   "metadata": {},
   "outputs": [],
   "source": [
    "import numpy as np \n",
    "import pandas as pd \n",
    "import matplotlib.pyplot as plt \n",
    "import matplotlib.colors as mcolors\n",
    "import random\n",
    "import math\n",
    "import time\n",
    "from sklearn.linear_model import LinearRegression\n",
    "from sklearn.model_selection import train_test_split\n",
    "from sklearn.preprocessing import PolynomialFeatures\n",
    "from sklearn.svm import SVR\n",
    "from sklearn.metrics import mean_squared_error, mean_absolute_error\n",
    "import datetime\n",
    "import operator \n",
    "plt.style.use('fivethirtyeight')\n",
    "%matplotlib inline "
   ]
  },
  {
   "cell_type": "code",
   "execution_count": 3,
   "id": "585d7226-972b-4662-b68a-3b53ef0407ab",
   "metadata": {},
   "outputs": [
    {
     "data": {
      "text/html": [
       "<div>\n",
       "<style scoped>\n",
       "    .dataframe tbody tr th:only-of-type {\n",
       "        vertical-align: middle;\n",
       "    }\n",
       "\n",
       "    .dataframe tbody tr th {\n",
       "        vertical-align: top;\n",
       "    }\n",
       "\n",
       "    .dataframe thead th {\n",
       "        text-align: right;\n",
       "    }\n",
       "</style>\n",
       "<table border=\"1\" class=\"dataframe\">\n",
       "  <thead>\n",
       "    <tr style=\"text-align: right;\">\n",
       "      <th></th>\n",
       "      <th>Sno</th>\n",
       "      <th>Date</th>\n",
       "      <th>Time</th>\n",
       "      <th>State/UnionTerritory</th>\n",
       "      <th>ConfirmedIndianNational</th>\n",
       "      <th>ConfirmedForeignNational</th>\n",
       "      <th>Cured</th>\n",
       "      <th>Deaths</th>\n",
       "      <th>Confirmed</th>\n",
       "    </tr>\n",
       "  </thead>\n",
       "  <tbody>\n",
       "    <tr>\n",
       "      <th>0</th>\n",
       "      <td>1.0</td>\n",
       "      <td>2020-01-30</td>\n",
       "      <td>6:00 PM</td>\n",
       "      <td>Kerala</td>\n",
       "      <td>1</td>\n",
       "      <td>0</td>\n",
       "      <td>0.0</td>\n",
       "      <td>0.0</td>\n",
       "      <td>1.0</td>\n",
       "    </tr>\n",
       "    <tr>\n",
       "      <th>1</th>\n",
       "      <td>2.0</td>\n",
       "      <td>2020-01-31</td>\n",
       "      <td>6:00 PM</td>\n",
       "      <td>Kerala</td>\n",
       "      <td>1</td>\n",
       "      <td>0</td>\n",
       "      <td>0.0</td>\n",
       "      <td>0.0</td>\n",
       "      <td>1.0</td>\n",
       "    </tr>\n",
       "    <tr>\n",
       "      <th>2</th>\n",
       "      <td>3.0</td>\n",
       "      <td>2020-02-01</td>\n",
       "      <td>6:00 PM</td>\n",
       "      <td>Kerala</td>\n",
       "      <td>2</td>\n",
       "      <td>0</td>\n",
       "      <td>0.0</td>\n",
       "      <td>0.0</td>\n",
       "      <td>2.0</td>\n",
       "    </tr>\n",
       "    <tr>\n",
       "      <th>3</th>\n",
       "      <td>4.0</td>\n",
       "      <td>2020-02-02</td>\n",
       "      <td>6:00 PM</td>\n",
       "      <td>Kerala</td>\n",
       "      <td>3</td>\n",
       "      <td>0</td>\n",
       "      <td>0.0</td>\n",
       "      <td>0.0</td>\n",
       "      <td>3.0</td>\n",
       "    </tr>\n",
       "    <tr>\n",
       "      <th>4</th>\n",
       "      <td>5.0</td>\n",
       "      <td>2020-02-03</td>\n",
       "      <td>6:00 PM</td>\n",
       "      <td>Kerala</td>\n",
       "      <td>3</td>\n",
       "      <td>0</td>\n",
       "      <td>0.0</td>\n",
       "      <td>0.0</td>\n",
       "      <td>3.0</td>\n",
       "    </tr>\n",
       "  </tbody>\n",
       "</table>\n",
       "</div>"
      ],
      "text/plain": [
       "   Sno        Date     Time State/UnionTerritory ConfirmedIndianNational  \\\n",
       "0  1.0  2020-01-30  6:00 PM               Kerala                       1   \n",
       "1  2.0  2020-01-31  6:00 PM               Kerala                       1   \n",
       "2  3.0  2020-02-01  6:00 PM               Kerala                       2   \n",
       "3  4.0  2020-02-02  6:00 PM               Kerala                       3   \n",
       "4  5.0  2020-02-03  6:00 PM               Kerala                       3   \n",
       "\n",
       "  ConfirmedForeignNational  Cured  Deaths  Confirmed  \n",
       "0                        0    0.0     0.0        1.0  \n",
       "1                        0    0.0     0.0        1.0  \n",
       "2                        0    0.0     0.0        2.0  \n",
       "3                        0    0.0     0.0        3.0  \n",
       "4                        0    0.0     0.0        3.0  "
      ]
     },
     "execution_count": 3,
     "metadata": {},
     "output_type": "execute_result"
    }
   ],
   "source": [
    "total_data = pd.read_csv('covid_19_india.csv')\n",
    "total_data.head()"
   ]
  },
  {
   "cell_type": "code",
   "execution_count": 23,
   "id": "02eaad76-288e-4d07-8ef6-b05479ffd989",
   "metadata": {},
   "outputs": [],
   "source": [
    "confirmed_cases = total_data[['Confirmed', 'State/UnionTerritory', 'Date']]"
   ]
  },
  {
   "cell_type": "code",
   "execution_count": 24,
   "id": "3a522e25-3674-4b68-b186-3de3735c1d2b",
   "metadata": {},
   "outputs": [
    {
     "name": "stderr",
     "output_type": "stream",
     "text": [
      "<ipython-input-24-4641ecf89ad8>:1: SettingWithCopyWarning: \n",
      "A value is trying to be set on a copy of a slice from a DataFrame\n",
      "\n",
      "See the caveats in the documentation: https://pandas.pydata.org/pandas-docs/stable/user_guide/indexing.html#returning-a-view-versus-a-copy\n",
      "  confirmed_cases.dropna(subset=['Confirmed'], inplace=True)\n"
     ]
    }
   ],
   "source": [
    "confirmed_cases.dropna(subset=['Confirmed'], inplace=True)"
   ]
  },
  {
   "cell_type": "code",
   "execution_count": 25,
   "id": "818a4470-f75f-4518-ab13-122c8635fc60",
   "metadata": {},
   "outputs": [
    {
     "data": {
      "text/html": [
       "<div>\n",
       "<style scoped>\n",
       "    .dataframe tbody tr th:only-of-type {\n",
       "        vertical-align: middle;\n",
       "    }\n",
       "\n",
       "    .dataframe tbody tr th {\n",
       "        vertical-align: top;\n",
       "    }\n",
       "\n",
       "    .dataframe thead th {\n",
       "        text-align: right;\n",
       "    }\n",
       "</style>\n",
       "<table border=\"1\" class=\"dataframe\">\n",
       "  <thead>\n",
       "    <tr style=\"text-align: right;\">\n",
       "      <th></th>\n",
       "      <th>Confirmed</th>\n",
       "      <th>State/UnionTerritory</th>\n",
       "      <th>Date</th>\n",
       "    </tr>\n",
       "  </thead>\n",
       "  <tbody>\n",
       "    <tr>\n",
       "      <th>0</th>\n",
       "      <td>1.0</td>\n",
       "      <td>Kerala</td>\n",
       "      <td>2020-01-30</td>\n",
       "    </tr>\n",
       "    <tr>\n",
       "      <th>1</th>\n",
       "      <td>1.0</td>\n",
       "      <td>Kerala</td>\n",
       "      <td>2020-01-31</td>\n",
       "    </tr>\n",
       "    <tr>\n",
       "      <th>2</th>\n",
       "      <td>2.0</td>\n",
       "      <td>Kerala</td>\n",
       "      <td>2020-02-01</td>\n",
       "    </tr>\n",
       "    <tr>\n",
       "      <th>3</th>\n",
       "      <td>3.0</td>\n",
       "      <td>Kerala</td>\n",
       "      <td>2020-02-02</td>\n",
       "    </tr>\n",
       "    <tr>\n",
       "      <th>4</th>\n",
       "      <td>3.0</td>\n",
       "      <td>Kerala</td>\n",
       "      <td>2020-02-03</td>\n",
       "    </tr>\n",
       "    <tr>\n",
       "      <th>...</th>\n",
       "      <td>...</td>\n",
       "      <td>...</td>\n",
       "      <td>...</td>\n",
       "    </tr>\n",
       "    <tr>\n",
       "      <th>15081</th>\n",
       "      <td>536766.0</td>\n",
       "      <td>Telangana</td>\n",
       "      <td>2021-05-19</td>\n",
       "    </tr>\n",
       "    <tr>\n",
       "      <th>15082</th>\n",
       "      <td>42776.0</td>\n",
       "      <td>Tripura</td>\n",
       "      <td>2021-05-19</td>\n",
       "    </tr>\n",
       "    <tr>\n",
       "      <th>15083</th>\n",
       "      <td>295790.0</td>\n",
       "      <td>Uttarakhand</td>\n",
       "      <td>2021-05-19</td>\n",
       "    </tr>\n",
       "    <tr>\n",
       "      <th>15084</th>\n",
       "      <td>1637663.0</td>\n",
       "      <td>Uttar Pradesh</td>\n",
       "      <td>2021-05-19</td>\n",
       "    </tr>\n",
       "    <tr>\n",
       "      <th>15085</th>\n",
       "      <td>1171861.0</td>\n",
       "      <td>West Bengal</td>\n",
       "      <td>2021-05-19</td>\n",
       "    </tr>\n",
       "  </tbody>\n",
       "</table>\n",
       "<p>15086 rows × 3 columns</p>\n",
       "</div>"
      ],
      "text/plain": [
       "       Confirmed State/UnionTerritory        Date\n",
       "0            1.0               Kerala  2020-01-30\n",
       "1            1.0               Kerala  2020-01-31\n",
       "2            2.0               Kerala  2020-02-01\n",
       "3            3.0               Kerala  2020-02-02\n",
       "4            3.0               Kerala  2020-02-03\n",
       "...          ...                  ...         ...\n",
       "15081   536766.0            Telangana  2021-05-19\n",
       "15082    42776.0              Tripura  2021-05-19\n",
       "15083   295790.0          Uttarakhand  2021-05-19\n",
       "15084  1637663.0        Uttar Pradesh  2021-05-19\n",
       "15085  1171861.0          West Bengal  2021-05-19\n",
       "\n",
       "[15086 rows x 3 columns]"
      ]
     },
     "execution_count": 25,
     "metadata": {},
     "output_type": "execute_result"
    }
   ],
   "source": [
    "confirmed_cases"
   ]
  },
  {
   "cell_type": "code",
   "execution_count": 28,
   "id": "6e2eb0fb-5c93-4894-8f93-8c0ae9b33765",
   "metadata": {},
   "outputs": [
    {
     "data": {
      "text/html": [
       "<div>\n",
       "<style scoped>\n",
       "    .dataframe tbody tr th:only-of-type {\n",
       "        vertical-align: middle;\n",
       "    }\n",
       "\n",
       "    .dataframe tbody tr th {\n",
       "        vertical-align: top;\n",
       "    }\n",
       "\n",
       "    .dataframe thead th {\n",
       "        text-align: right;\n",
       "    }\n",
       "</style>\n",
       "<table border=\"1\" class=\"dataframe\">\n",
       "  <thead>\n",
       "    <tr style=\"text-align: right;\">\n",
       "      <th></th>\n",
       "      <th>Confirmed</th>\n",
       "      <th>State/UnionTerritory</th>\n",
       "      <th>Date</th>\n",
       "    </tr>\n",
       "  </thead>\n",
       "  <tbody>\n",
       "    <tr>\n",
       "      <th>365</th>\n",
       "      <td>1.0</td>\n",
       "      <td>Andaman and Nicobar Islands</td>\n",
       "      <td>2020-03-26</td>\n",
       "    </tr>\n",
       "    <tr>\n",
       "      <th>392</th>\n",
       "      <td>1.0</td>\n",
       "      <td>Andaman and Nicobar Islands</td>\n",
       "      <td>2020-03-27</td>\n",
       "    </tr>\n",
       "    <tr>\n",
       "      <th>420</th>\n",
       "      <td>6.0</td>\n",
       "      <td>Andaman and Nicobar Islands</td>\n",
       "      <td>2020-03-28</td>\n",
       "    </tr>\n",
       "    <tr>\n",
       "      <th>447</th>\n",
       "      <td>9.0</td>\n",
       "      <td>Andaman and Nicobar Islands</td>\n",
       "      <td>2020-03-29</td>\n",
       "    </tr>\n",
       "    <tr>\n",
       "      <th>474</th>\n",
       "      <td>9.0</td>\n",
       "      <td>Andaman and Nicobar Islands</td>\n",
       "      <td>2020-03-30</td>\n",
       "    </tr>\n",
       "    <tr>\n",
       "      <th>...</th>\n",
       "      <td>...</td>\n",
       "      <td>...</td>\n",
       "      <td>...</td>\n",
       "    </tr>\n",
       "    <tr>\n",
       "      <th>14941</th>\n",
       "      <td>1094802.0</td>\n",
       "      <td>West Bengal</td>\n",
       "      <td>2021-05-15</td>\n",
       "    </tr>\n",
       "    <tr>\n",
       "      <th>14977</th>\n",
       "      <td>1114313.0</td>\n",
       "      <td>West Bengal</td>\n",
       "      <td>2021-05-16</td>\n",
       "    </tr>\n",
       "    <tr>\n",
       "      <th>15013</th>\n",
       "      <td>1133430.0</td>\n",
       "      <td>West Bengal</td>\n",
       "      <td>2021-05-17</td>\n",
       "    </tr>\n",
       "    <tr>\n",
       "      <th>15049</th>\n",
       "      <td>1152433.0</td>\n",
       "      <td>West Bengal</td>\n",
       "      <td>2021-05-18</td>\n",
       "    </tr>\n",
       "    <tr>\n",
       "      <th>15085</th>\n",
       "      <td>1171861.0</td>\n",
       "      <td>West Bengal</td>\n",
       "      <td>2021-05-19</td>\n",
       "    </tr>\n",
       "  </tbody>\n",
       "</table>\n",
       "<p>15086 rows × 3 columns</p>\n",
       "</div>"
      ],
      "text/plain": [
       "       Confirmed         State/UnionTerritory        Date\n",
       "365          1.0  Andaman and Nicobar Islands  2020-03-26\n",
       "392          1.0  Andaman and Nicobar Islands  2020-03-27\n",
       "420          6.0  Andaman and Nicobar Islands  2020-03-28\n",
       "447          9.0  Andaman and Nicobar Islands  2020-03-29\n",
       "474          9.0  Andaman and Nicobar Islands  2020-03-30\n",
       "...          ...                          ...         ...\n",
       "14941  1094802.0                  West Bengal  2021-05-15\n",
       "14977  1114313.0                  West Bengal  2021-05-16\n",
       "15013  1133430.0                  West Bengal  2021-05-17\n",
       "15049  1152433.0                  West Bengal  2021-05-18\n",
       "15085  1171861.0                  West Bengal  2021-05-19\n",
       "\n",
       "[15086 rows x 3 columns]"
      ]
     },
     "execution_count": 28,
     "metadata": {},
     "output_type": "execute_result"
    }
   ],
   "source": [
    "confirmed_cases.sort_values(by=['State/UnionTerritory', 'Date'])"
   ]
  },
  {
   "cell_type": "code",
   "execution_count": 29,
   "id": "8d073d17-b3e1-4d38-a8f0-1b9ab89e2296",
   "metadata": {},
   "outputs": [],
   "source": [
    "confirmed_cases_PB = confirmed_cases.loc[confirmed_cases['State/UnionTerritory'] == 'Punjab']"
   ]
  },
  {
   "cell_type": "code",
   "execution_count": 32,
   "id": "710ec953-484a-485f-99c0-e40b7393b47e",
   "metadata": {},
   "outputs": [
    {
     "data": {
      "text/html": [
       "<div>\n",
       "<style scoped>\n",
       "    .dataframe tbody tr th:only-of-type {\n",
       "        vertical-align: middle;\n",
       "    }\n",
       "\n",
       "    .dataframe tbody tr th {\n",
       "        vertical-align: top;\n",
       "    }\n",
       "\n",
       "    .dataframe thead th {\n",
       "        text-align: right;\n",
       "    }\n",
       "</style>\n",
       "<table border=\"1\" class=\"dataframe\">\n",
       "  <thead>\n",
       "    <tr style=\"text-align: right;\">\n",
       "      <th></th>\n",
       "      <th>Confirmed</th>\n",
       "      <th>State/UnionTerritory</th>\n",
       "      <th>Date</th>\n",
       "    </tr>\n",
       "  </thead>\n",
       "  <tbody>\n",
       "    <tr>\n",
       "      <th>77</th>\n",
       "      <td>1.0</td>\n",
       "      <td>Punjab</td>\n",
       "      <td>2020-03-09</td>\n",
       "    </tr>\n",
       "    <tr>\n",
       "      <th>92</th>\n",
       "      <td>1.0</td>\n",
       "      <td>Punjab</td>\n",
       "      <td>2020-03-10</td>\n",
       "    </tr>\n",
       "    <tr>\n",
       "      <th>107</th>\n",
       "      <td>1.0</td>\n",
       "      <td>Punjab</td>\n",
       "      <td>2020-03-11</td>\n",
       "    </tr>\n",
       "    <tr>\n",
       "      <th>118</th>\n",
       "      <td>1.0</td>\n",
       "      <td>Punjab</td>\n",
       "      <td>2020-03-12</td>\n",
       "    </tr>\n",
       "    <tr>\n",
       "      <th>131</th>\n",
       "      <td>1.0</td>\n",
       "      <td>Punjab</td>\n",
       "      <td>2020-03-13</td>\n",
       "    </tr>\n",
       "    <tr>\n",
       "      <th>...</th>\n",
       "      <td>...</td>\n",
       "      <td>...</td>\n",
       "      <td>...</td>\n",
       "    </tr>\n",
       "    <tr>\n",
       "      <th>14933</th>\n",
       "      <td>483984.0</td>\n",
       "      <td>Punjab</td>\n",
       "      <td>2021-05-15</td>\n",
       "    </tr>\n",
       "    <tr>\n",
       "      <th>14969</th>\n",
       "      <td>490755.0</td>\n",
       "      <td>Punjab</td>\n",
       "      <td>2021-05-16</td>\n",
       "    </tr>\n",
       "    <tr>\n",
       "      <th>15005</th>\n",
       "      <td>497705.0</td>\n",
       "      <td>Punjab</td>\n",
       "      <td>2021-05-17</td>\n",
       "    </tr>\n",
       "    <tr>\n",
       "      <th>15041</th>\n",
       "      <td>504586.0</td>\n",
       "      <td>Punjab</td>\n",
       "      <td>2021-05-18</td>\n",
       "    </tr>\n",
       "    <tr>\n",
       "      <th>15077</th>\n",
       "      <td>511652.0</td>\n",
       "      <td>Punjab</td>\n",
       "      <td>2021-05-19</td>\n",
       "    </tr>\n",
       "  </tbody>\n",
       "</table>\n",
       "<p>437 rows × 3 columns</p>\n",
       "</div>"
      ],
      "text/plain": [
       "       Confirmed State/UnionTerritory        Date\n",
       "77           1.0               Punjab  2020-03-09\n",
       "92           1.0               Punjab  2020-03-10\n",
       "107          1.0               Punjab  2020-03-11\n",
       "118          1.0               Punjab  2020-03-12\n",
       "131          1.0               Punjab  2020-03-13\n",
       "...          ...                  ...         ...\n",
       "14933   483984.0               Punjab  2021-05-15\n",
       "14969   490755.0               Punjab  2021-05-16\n",
       "15005   497705.0               Punjab  2021-05-17\n",
       "15041   504586.0               Punjab  2021-05-18\n",
       "15077   511652.0               Punjab  2021-05-19\n",
       "\n",
       "[437 rows x 3 columns]"
      ]
     },
     "execution_count": 32,
     "metadata": {},
     "output_type": "execute_result"
    }
   ],
   "source": [
    "confirmed_cases_PB"
   ]
  },
  {
   "cell_type": "code",
   "execution_count": 54,
   "id": "073eadf4-8c2c-4406-a120-7a6bb178ed69",
   "metadata": {},
   "outputs": [],
   "source": [
    "PB_X = confirmed_cases_PB.Date"
   ]
  },
  {
   "cell_type": "code",
   "execution_count": 55,
   "id": "83268433-ffdc-47ea-b7d3-6bd391be91d4",
   "metadata": {},
   "outputs": [],
   "source": [
    "PB_Y = confirmed_cases_PB.Confirmed"
   ]
  },
  {
   "cell_type": "code",
   "execution_count": 57,
   "id": "e6395b0c-21a0-45df-b922-1a3b18b485b5",
   "metadata": {},
   "outputs": [],
   "source": [
    "import datetime as dt\n",
    "PB_X = pd.to_datetime(PB_X)\n",
    "PB_X=PB_X.map(dt.datetime.toordinal)"
   ]
  },
  {
   "cell_type": "code",
   "execution_count": 58,
   "id": "7674375b-f3fb-4cbb-9f9d-c79062fb0a9d",
   "metadata": {},
   "outputs": [
    {
     "data": {
      "text/plain": [
       "77       737493\n",
       "92       737494\n",
       "107      737495\n",
       "118      737496\n",
       "131      737497\n",
       "          ...  \n",
       "14933    737925\n",
       "14969    737926\n",
       "15005    737927\n",
       "15041    737928\n",
       "15077    737929\n",
       "Name: Date, Length: 437, dtype: int64"
      ]
     },
     "execution_count": 58,
     "metadata": {},
     "output_type": "execute_result"
    }
   ],
   "source": [
    "PB_X"
   ]
  },
  {
   "cell_type": "code",
   "execution_count": 59,
   "id": "dbf66db1-70b4-46dc-a1a1-c767848c5e70",
   "metadata": {},
   "outputs": [
    {
     "data": {
      "image/png": "[encoded data removed]",
      "text/plain": [
       "<Figure size 432x288 with 1 Axes>"
      ]
     },
     "metadata": {},
     "output_type": "display_data"
    }
   ],
   "source": [
    "plt.scatter(PB_X, PB_Y )\n",
    "plt.show()"
   ]
  },
  {
   "cell_type": "code",
   "execution_count": 60,
   "id": "e20e0b54-c2b3-4644-92b6-14958ce2a48e",
   "metadata": {},
   "outputs": [],
   "source": [
    "reg = LinearRegression()"
   ]
  },
  {
   "cell_type": "code",
   "execution_count": 85,
   "id": "7b1564cf-b4e4-4cbc-9963-f4df14953def",
   "metadata": {},
   "outputs": [],
   "source": [
    "X_train, X_test, y_train, y_test = train_test_split(PB_X, PB_Y, test_size=0.4, random_state=0)"
   ]
  },
  {
   "cell_type": "code",
   "execution_count": 86,
   "id": "60b42914-ee9a-40fc-89d0-a2d4211ae333",
   "metadata": {},
   "outputs": [
    {
     "data": {
      "text/plain": [
       "array([737493, 737494, 737495, 737496, 737497, 737498, 737499, 737500,\n",
       "       737501, 737502, 737503, 737504, 737505, 737506, 737507, 737508,\n",
       "       737509, 737510, 737511, 737512, 737513, 737514, 737515, 737516,\n",
       "       737517, 737518, 737519, 737520, 737521, 737522, 737523, 737524,\n",
       "       737525, 737526, 737527, 737528, 737529, 737530, 737531, 737532,\n",
       "       737533, 737534, 737535, 737536, 737537, 737538, 737539, 737540,\n",
       "       737541, 737542, 737543, 737544, 737545, 737546, 737547, 737548,\n",
       "       737549, 737550, 737551, 737552, 737553, 737554, 737555, 737556,\n",
       "       737557, 737558, 737559, 737560, 737561, 737562, 737563, 737564,\n",
       "       737565, 737566, 737567, 737568, 737569, 737570, 737571, 737572,\n",
       "       737573, 737574, 737575, 737576, 737577, 737578, 737579, 737580,\n",
       "       737581, 737582, 737583, 737584, 737585, 737586, 737587, 737588,\n",
       "       737589, 737590, 737591, 737592, 737593, 737594, 737595, 737596,\n",
       "       737597, 737598, 737599, 737600, 737601, 737602, 737603, 737604,\n",
       "       737605, 737606, 737607, 737608, 737609, 737610, 737611, 737612,\n",
       "       737613, 737614, 737615, 737616, 737617, 737618, 737619, 737620,\n",
       "       737621, 737622, 737623, 737624, 737625, 737626, 737627, 737628,\n",
       "       737629, 737630, 737631, 737632, 737633, 737634, 737635, 737636,\n",
       "       737637, 737638, 737639, 737640, 737641, 737642, 737643, 737644,\n",
       "       737645, 737646, 737647, 737648, 737649, 737650, 737651, 737652,\n",
       "       737653, 737654, 737655, 737656, 737657, 737658, 737659, 737660,\n",
       "       737661, 737662, 737663, 737664, 737665, 737666, 737667, 737668,\n",
       "       737669, 737670, 737671, 737672, 737673, 737674, 737675, 737676,\n",
       "       737677, 737678, 737679, 737680, 737681, 737682, 737683, 737684,\n",
       "       737685, 737686, 737687, 737688, 737689, 737690, 737691, 737692,\n",
       "       737693, 737694, 737695, 737696, 737697, 737698, 737699, 737700,\n",
       "       737701, 737702, 737703, 737704, 737705, 737706, 737707, 737708,\n",
       "       737709, 737710, 737711, 737712, 737713, 737714, 737715, 737716,\n",
       "       737717, 737718, 737719, 737720, 737721, 737722, 737723, 737724,\n",
       "       737725, 737726, 737727, 737728, 737729, 737730, 737731, 737732,\n",
       "       737733, 737734, 737735, 737736, 737737, 737738, 737739, 737740,\n",
       "       737741, 737742, 737743, 737744, 737745, 737746, 737747, 737748,\n",
       "       737749, 737750, 737751, 737752, 737753, 737754, 737755, 737756,\n",
       "       737757, 737758, 737759, 737760, 737761, 737762, 737763, 737764,\n",
       "       737765, 737766, 737767, 737768, 737769, 737770, 737771, 737772,\n",
       "       737773, 737774, 737775, 737776, 737777, 737778, 737779, 737780,\n",
       "       737781, 737782, 737783, 737784, 737785, 737786, 737787, 737788,\n",
       "       737789, 737790, 737791, 737792, 737793, 737794, 737795, 737796,\n",
       "       737797, 737798, 737799, 737800, 737801, 737802, 737803, 737804,\n",
       "       737805, 737806, 737807, 737808, 737809, 737810, 737811, 737812,\n",
       "       737813, 737814, 737815, 737816, 737817, 737818, 737819, 737820,\n",
       "       737821, 737822, 737823, 737824, 737825, 737826, 737827, 737828,\n",
       "       737829, 737830, 737831, 737832, 737833, 737834, 737835, 737836,\n",
       "       737837, 737838, 737839, 737840, 737841, 737842, 737843, 737844,\n",
       "       737845, 737846, 737847, 737848, 737849, 737850, 737851, 737852,\n",
       "       737853, 737854, 737855, 737856, 737857, 737858, 737859, 737860,\n",
       "       737861, 737862, 737863, 737864, 737865, 737866, 737867, 737868,\n",
       "       737869, 737870, 737871, 737872, 737873, 737874, 737875, 737876,\n",
       "       737877, 737878, 737879, 737880, 737881, 737882, 737883, 737884,\n",
       "       737885, 737886, 737887, 737888, 737889, 737890, 737891, 737892,\n",
       "       737893, 737894, 737895, 737896, 737897, 737898, 737899, 737900,\n",
       "       737901, 737902, 737903, 737904, 737905, 737906, 737907, 737908,\n",
       "       737909, 737910, 737911, 737912, 737913, 737914, 737915, 737916,\n",
       "       737917, 737918, 737919, 737920, 737921, 737922, 737923, 737924,\n",
       "       737925, 737926, 737927, 737928, 737929], dtype=int64)"
      ]
     },
     "execution_count": 86,
     "metadata": {},
     "output_type": "execute_result"
    }
   ],
   "source": [
    "PB_X.values"
   ]
  },
  {
   "cell_type": "code",
   "execution_count": 87,
   "id": "c978a49f-908e-4f3c-adce-8469ff2a8717",
   "metadata": {},
   "outputs": [
    {
     "data": {
      "text/plain": [
       "LinearRegression()"
      ]
     },
     "execution_count": 87,
     "metadata": {},
     "output_type": "execute_result"
    }
   ],
   "source": [
    "reg.fit(X_train.values.reshape(-1, 1), y_train)"
   ]
  },
  {
   "cell_type": "code",
   "execution_count": 89,
   "id": "ef7a8ff0-9058-418a-9a07-9c9650c6d457",
   "metadata": {},
   "outputs": [
    {
     "data": {
      "text/plain": [
       "0.8369510972464262"
      ]
     },
     "execution_count": 89,
     "metadata": {},
     "output_type": "execute_result"
    }
   ],
   "source": [
    "reg.score(X_test.values.reshape(-1, 1), y_test)"
   ]
  },
  {
   "cell_type": "code",
   "execution_count": 90,
   "id": "51364930-b9f9-4b8b-97d2-acbe4dfad117",
   "metadata": {},
   "outputs": [],
   "source": [
    "y_pred = reg.predict(X_test.values.reshape(-1, 1))"
   ]
  },
  {
   "cell_type": "code",
   "execution_count": 91,
   "id": "a0320f28-2f77-4a94-a0b8-88d192fee124",
   "metadata": {},
   "outputs": [
    {
     "data": {
      "text/plain": [
       "array([ 1.50660217e+05,  1.66756368e+05,  1.99795836e+05,  1.07454758e+05,\n",
       "       -2.30087824e+04, -5.85897480e+04,  6.59436317e+04,  2.65874772e+05,\n",
       "        2.49778621e+05,  1.98948670e+05, -6.02840797e+04,  2.50625787e+05,\n",
       "        2.56555948e+05,  1.05760427e+05,  1.70145031e+05,  3.00608572e+05,\n",
       "       -3.74106018e+04,  1.25721833e+04,  1.71839363e+05,  5.15418123e+04,\n",
       "        2.97219908e+05,  7.61096219e+04,  9.89830998e+04,  1.04913261e+05,\n",
       "       -5.09652554e+04,  2.64180440e+05,  2.42154128e+05,  1.00677431e+05,\n",
       "        2.31988138e+05,  2.28599475e+05,  2.95525577e+05, -6.79085723e+04,\n",
       "       -4.37113370e+03,  2.10808992e+05,  2.06573162e+05, -2.13144507e+04,\n",
       "        2.23516479e+05,  7.48918817e+03,  4.47644855e+04,  2.08267494e+05,\n",
       "        6.08606366e+04,  2.98067074e+05,  6.42493000e+04,  2.18910076e+04,\n",
       "        3.62928270e+04,  7.01794609e+04,  1.59608467e+04,  1.58284709e+05,\n",
       "        2.41306962e+05,  2.69740027e+04, -5.60482504e+04,  1.38799895e+05,\n",
       "        1.28633904e+05,  6.67907975e+04, -1.79257873e+04,  1.81158187e+05,\n",
       "        2.27752309e+05,  2.51472952e+05, -6.36727431e+04,  2.43848460e+05,\n",
       "        2.33682470e+05,  6.50964658e+04,  2.60791777e+05,  6.25549683e+04,\n",
       "        2.19280650e+05,  1.82005353e+05,  7.52624560e+04,  1.54896046e+05,\n",
       "       -1.87729531e+04,  2.22669314e+05, -2.67680201e+03,  2.88748250e+05,\n",
       "       -1.36899580e+04,  9.30529388e+04,  1.26939573e+05,  1.46424387e+05,\n",
       "        2.87053918e+05,  1.93865675e+05,  2.75193596e+05,  8.03454511e+04,\n",
       "        1.76551783e+04,  8.88171096e+04,  1.63367704e+05,  4.30701538e+04,\n",
       "       -2.72446116e+04, -2.47031141e+04, -6.06546540e+03, -4.67294261e+04,\n",
       "       -3.06332750e+04,  1.54048880e+05, -6.53670748e+04,  1.30328236e+05,\n",
       "        1.18467914e+05,  4.56116513e+04,  2.32835304e+05, -6.19784114e+04,\n",
       "        2.07420328e+05, -6.45199089e+04,  3.45984953e+04,  1.40494226e+05,\n",
       "        1.25245241e+05, -6.28255772e+04,  2.69263435e+05,  2.37918299e+05,\n",
       "       -5.01180895e+04, -1.11484605e+04,  2.02337333e+05, -5.18124212e+04,\n",
       "        5.06946464e+04,  2.25210811e+05, -5.68954163e+04,  1.83699685e+05,\n",
       "        2.31140972e+05,  9.98302656e+04,  1.16773583e+05,  1.15926417e+05,\n",
       "       -5.21829955e+03, -1.45371239e+04, -2.21616165e+04,  1.34564065e+05,\n",
       "       -1.35304462e+02,  1.96407172e+05,  2.65027606e+05,  1.86241182e+05,\n",
       "       -8.60696294e+03,  2.77735094e+05,  1.74380860e+05,  1.31175402e+05,\n",
       "        2.83665255e+05,  2.57403113e+05,  5.32361440e+04,  6.17078025e+04,\n",
       "        1.17620748e+05,  7.94982853e+04,  1.43035724e+05,  2.54861616e+05,\n",
       "        2.10438417e+04,  1.65062036e+05, -1.53842897e+04,  1.87088348e+05,\n",
       "        2.48084289e+05,  2.55708782e+05,  1.21009412e+05,  6.64202232e+03,\n",
       "        1.00306857e+04,  2.68416269e+05,  1.70992197e+05,  1.69297865e+05,\n",
       "        9.18351987e+03, -5.35067529e+04,  5.40833098e+04,  5.83191391e+04,\n",
       "        1.11690587e+05,  9.72887681e+04,  2.70110601e+05,  2.01490167e+05,\n",
       "       -1.28427922e+04,  1.60826207e+05,  9.55944364e+04,  4.98474806e+04,\n",
       "        1.68080125e+04,  2.20974982e+05,  1.76075192e+05,  2.94678411e+05,\n",
       "       -5.43539187e+04,  5.49304757e+04,  9.22057730e+04,  1.44730056e+05,\n",
       "       -4.33407627e+04,  2.78211685e+04,  8.28869487e+04,  1.85023442e+04,\n",
       "        1.32869734e+05,  1.61673373e+05,  9.05114413e+04])"
      ]
     },
     "execution_count": 91,
     "metadata": {},
     "output_type": "execute_result"
    }
   ],
   "source": [
    "y_pred"
   ]
  },
  {
   "cell_type": "code",
   "execution_count": 92,
   "id": "c8055c56-d7c9-4738-bfbe-4d83f3edbb8f",
   "metadata": {},
   "outputs": [
    {
     "data": {
      "text/plain": [
       "30604.92529836995"
      ]
     },
     "execution_count": 92,
     "metadata": {},
     "output_type": "execute_result"
    }
   ],
   "source": [
    "ma = mean_absolute_error(y_test, y_pred)\n",
    "ma"
   ]
  },
  {
   "cell_type": "code",
   "execution_count": 93,
   "id": "6dacf5d2-3e30-425c-85fb-1a774d7ba882",
   "metadata": {},
   "outputs": [
    {
     "data": {
      "text/plain": [
       "2052869012.4619942"
      ]
     },
     "execution_count": 93,
     "metadata": {},
     "output_type": "execute_result"
    }
   ],
   "source": [
    "mean_squared_error(y_test, y_pred)"
   ]
  },
  {
   "cell_type": "code",
   "execution_count": 94,
   "id": "ad630e7c-77eb-4d1d-bfdb-a27140ab9596",
   "metadata": {},
   "outputs": [
    {
     "data": {
      "text/plain": [
       "array([301455.73748612])"
      ]
     },
     "execution_count": 94,
     "metadata": {},
     "output_type": "execute_result"
    }
   ],
   "source": [
    "reg.predict(np.array(737930).reshape(-1, 1))"
   ]
  },
  {
   "cell_type": "code",
   "execution_count": null,
   "id": "4caab330-4712-4f3c-9360-8078cd127c3c",
   "metadata": {},
   "outputs": [],
   "source": []
  }
 ],
 "metadata": {
  "kernelspec": {
   "display_name": "Python 3",
   "language": "python",
   "name": "python3"
  },
  "language_info": {
   "codemirror_mode": {
    "name": "ipython",
    "version": 3
   },
   "file_extension": ".py",
   "mimetype": "text/x-python",
   "name": "python",
   "nbconvert_exporter": "python",
   "pygments_lexer": "ipython3",
   "version": "3.9.4"
  }
 },
 "nbformat": 4,
 "nbformat_minor": 5
}
